{
 "cells": [
  {
   "cell_type": "code",
   "execution_count": null,
   "metadata": {},
   "outputs": [],
   "source": [
    "f __name__ == '__main__':\n",
    "    n = int(input())\n",
    "    if n>=0:\n",
    "        for i in range(n):\n",
    "            print(i**2)"
   ]
  }
 ],
 "metadata": {
  "language_info": {
   "name": "python"
  }
 },
 "nbformat": 4,
 "nbformat_minor": 2
}
