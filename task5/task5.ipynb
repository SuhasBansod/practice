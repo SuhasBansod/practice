{
 "cells": [
  {
   "cell_type": "code",
   "execution_count": null,
   "metadata": {},
   "outputs": [],
   "source": [
    "def is_leap(n):\n",
    "    if n%  400 == 0:\n",
    "        return True\n",
    "    if year % 100 == 0:              \n",
    "        return False\n",
    "    if n % 4 == 0 :\n",
    "        return True\n",
    "    else:\n",
    "        return False\n",
    "year = int(input())\n",
    "print(is_leap(year))"
   ]
  }
 ],
 "metadata": {
  "language_info": {
   "name": "python"
  }
 },
 "nbformat": 4,
 "nbformat_minor": 2
}
